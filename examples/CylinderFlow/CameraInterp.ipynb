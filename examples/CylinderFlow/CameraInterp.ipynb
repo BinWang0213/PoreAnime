{
 "cells": [
  {
   "cell_type": "code",
   "execution_count": 2,
   "metadata": {},
   "outputs": [],
   "source": [
    "import numpy as np\n",
    "import pyvista as pv\n",
    "import matplotlib.pyplot as plt"
   ]
  },
  {
   "cell_type": "code",
   "execution_count": 3,
   "metadata": {},
   "outputs": [],
   "source": [
    "Streamline=pv.read('trajectory.vtp')"
   ]
  },
  {
   "cell_type": "code",
   "execution_count": 5,
   "metadata": {},
   "outputs": [
    {
     "output_type": "execute_result",
     "data": {
      "text/plain": [
       "PolyData (0x2aa21b2b0a8)\n",
       "  N Cells:\t1\n",
       "  N Points:\t47\n",
       "  X Bounds:\t1.115e-01, 1.957e+00\n",
       "  Y Bounds:\t4.816e-01, 5.009e-01\n",
       "  Z Bounds:\t9.307e-02, 1.010e-01\n",
       "  N Arrays:\t5"
      ],
      "text/html": "<table><tr><th>Header</th><th>Data Arrays</th></tr><tr><td>\n<table>\n<tr><th>PolyData</th><th>Information</th></tr>\n<tr><td>N Cells</td><td>1</td></tr>\n<tr><td>N Points</td><td>47</td></tr>\n<tr><td>X Bounds</td><td>1.115e-01, 1.957e+00</td></tr>\n<tr><td>Y Bounds</td><td>4.816e-01, 5.009e-01</td></tr>\n<tr><td>Z Bounds</td><td>9.307e-02, 1.010e-01</td></tr>\n<tr><td>N Arrays</td><td>5</td></tr>\n</table>\n\n</td><td>\n<table>\n<tr><th>Name</th><th>Field</th><th>Type</th><th>N Comp</th><th>Min</th><th>Max</th></tr>\n<tr><td><b>velocity</b></td><td>Points</td><td>float32</td><td>3</td><td>-6.840e-01</td><td>2.274e+01</td></tr>\n<tr><td>vtkOriginalPointIds</td><td>Points</td><td>int64</td><td>1</td><td>1.451e+03</td><td>1.497e+03</td></tr>\n<tr><td>coords</td><td>Points</td><td>float64</td><td>3</td><td>9.307e-02</td><td>1.957e+00</td></tr>\n<tr><td>StreamlineID</td><td>Cells</td><td>int32</td><td>1</td><td>2.600e+01</td><td>2.600e+01</td></tr>\n<tr><td>vtkOriginalCellIds</td><td>Cells</td><td>int64</td><td>1</td><td>2.600e+01</td><td>2.600e+01</td></tr>\n</table>\n\n</td></tr> </table>"
     },
     "metadata": {},
     "execution_count": 5
    }
   ],
   "source": [
    "Streamline"
   ]
  },
  {
   "cell_type": "code",
   "execution_count": 8,
   "metadata": {},
   "outputs": [],
   "source": [
    "#Get the coordinates from a streamline\n",
    "Coords=Streamline.points\n",
    "\n",
    "#Get the time from a streamline\n",
    "Timestep=0.0025 #secs\n",
    "SimTime=len(Coords)*Timestep\n",
    "Times=np.linspace(0,SimTime,len(Coords),endpoint=False)"
   ]
  },
  {
   "cell_type": "code",
   "execution_count": 19,
   "metadata": {},
   "outputs": [
    {
     "output_type": "stream",
     "name": "stdout",
     "text": [
      "[[0.111488   0.500337   0.10021   ]\n [0.226643   0.50035799 0.100077  ]\n [0.339322   0.50002402 0.099991  ]\n [0.452216   0.50062603 0.100044  ]\n [0.56129098 0.50092101 0.099993  ]\n [0.662296   0.499419   0.0999708 ]\n [0.75690103 0.497637   0.100127  ]\n [0.83296299 0.49606201 0.100312  ]\n [0.887564   0.49336901 0.100961  ]\n [0.92821097 0.491254   0.101026  ]\n [0.954983   0.48842701 0.100514  ]\n [0.97499901 0.48503    0.0998541 ]\n [0.99223    0.482638   0.0991416 ]\n [1.00616002 0.48160601 0.0984895 ]\n [1.01987004 0.48260999 0.0977835 ]\n [1.03456998 0.48334101 0.0963855 ]\n [1.04982996 0.48665199 0.0953826 ]\n [1.06894004 0.48990399 0.0939438 ]\n [1.09466004 0.49305999 0.0931367 ]\n [1.12653995 0.495067   0.0930675 ]\n [1.16287005 0.49601999 0.0933982 ]\n [1.18894994 0.49405    0.0941652 ]\n [1.20779002 0.49251899 0.0951174 ]\n [1.22196996 0.490704   0.0954586 ]\n [1.23655999 0.48955899 0.0960096 ]\n [1.2493     0.48996601 0.0963497 ]\n [1.26210999 0.49043    0.0962076 ]\n [1.27688003 0.49068701 0.0961455 ]\n [1.29302001 0.49203801 0.0955737 ]\n [1.3125     0.493792   0.0948136 ]\n [1.33807003 0.49603599 0.0936145 ]\n [1.37234998 0.497233   0.0934306 ]\n [1.40708995 0.49670601 0.0935992 ]\n [1.43520999 0.49529099 0.0940962 ]\n [1.45562005 0.49326101 0.0952065 ]\n [1.47277999 0.492892   0.0960239 ]\n [1.48750997 0.492466   0.0965967 ]\n [1.50246    0.49303201 0.0971846 ]\n [1.51936996 0.493651   0.09804   ]\n [1.53890002 0.49591899 0.0988832 ]\n [1.56300998 0.497109   0.0990189 ]\n [1.59511006 0.498611   0.0990901 ]\n [1.63951004 0.49877101 0.0991623 ]\n [1.69316006 0.49965101 0.099371  ]\n [1.76739001 0.49850601 0.0992801 ]\n [1.85762    0.49967301 0.0991241 ]\n [1.95668006 0.50013602 0.0998621 ]]\n"
     ]
    }
   ],
   "source": [
    "print(Coords)"
   ]
  },
  {
   "cell_type": "code",
   "execution_count": 18,
   "metadata": {},
   "outputs": [
    {
     "output_type": "stream",
     "name": "stdout",
     "text": [
      "[0.     0.0025 0.005  0.0075 0.01   0.0125 0.015  0.0175 0.02   0.0225\n 0.025  0.0275 0.03   0.0325 0.035  0.0375 0.04   0.0425 0.045  0.0475\n 0.05   0.0525 0.055  0.0575 0.06   0.0625 0.065  0.0675 0.07   0.0725\n 0.075  0.0775 0.08   0.0825 0.085  0.0875 0.09   0.0925 0.095  0.0975\n 0.1    0.1025 0.105  0.1075 0.11   0.1125 0.115 ]\n"
     ]
    }
   ],
   "source": [
    "print(Times)"
   ]
  },
  {
   "cell_type": "code",
   "execution_count": 13,
   "metadata": {},
   "outputs": [],
   "source": [
    "def interpCameraPos(t, Coords, Times):\n",
    "    pos=np.zeros(3)\n",
    "    focal_pos=np.zeros(3) \n",
    "    up_vector=np.array([0.0,0.0,1.0])\n",
    "\n",
    "    #Do some interpolation\n",
    "    \n",
    "    return pos, focal_pos, up_vector"
   ]
  },
  {
   "cell_type": "code",
   "execution_count": 14,
   "metadata": {},
   "outputs": [
    {
     "output_type": "stream",
     "name": "stdout",
     "text": [
      "Camera Position= [0. 0. 0.]\nCamera focal_pos= [0. 0. 0.]\nCamera up-vector= [0. 0. 1.]\n"
     ]
    }
   ],
   "source": [
    "pos, focal_pos, up_vector = interpCameraPos(0.00375, Coords, Times)\n",
    "print('Camera Position=',pos)\n",
    "print('Camera focal_pos=',focal_pos)\n",
    "print('Camera up-vector=',up_vector)"
   ]
  },
  {
   "cell_type": "code",
   "execution_count": 16,
   "metadata": {},
   "outputs": [
    {
     "output_type": "execute_result",
     "data": {
      "text/plain": [
       "0.00375"
      ]
     },
     "metadata": {},
     "execution_count": 16
    }
   ],
   "source": [
    "(0.0025+0.005)/2.0"
   ]
  }
 ],
 "metadata": {
  "kernelspec": {
   "display_name": "Python 3",
   "language": "python",
   "name": "python3"
  },
  "language_info": {
   "codemirror_mode": {
    "name": "ipython",
    "version": 3
   },
   "file_extension": ".py",
   "mimetype": "text/x-python",
   "name": "python",
   "nbconvert_exporter": "python",
   "pygments_lexer": "ipython3",
   "version": "3.7.7-final"
  }
 },
 "nbformat": 4,
 "nbformat_minor": 2
}